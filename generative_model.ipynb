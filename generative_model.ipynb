{
 "cells": [
  {
   "cell_type": "code",
   "execution_count": 1,
   "id": "dcbabd0f",
   "metadata": {},
   "outputs": [],
   "source": [
    "import os\n",
    "os.environ[\"CUDA_DEVICE_ORDER\"] = \"PCI_BUS_ID\"\n",
    "os.environ[\"CUDA_VISIBLE_DEVICES\"] = \"4\"\n",
    "import numpy as np\n",
    "import PIL\n",
    "import PIL.Image\n",
    "import tensorflow as tf\n",
    "from tensorflow.keras import layers\n",
    "import matplotlib.pyplot as plt"
   ]
  },
  {
   "cell_type": "code",
   "execution_count": 2,
   "id": "b128decf",
   "metadata": {},
   "outputs": [],
   "source": [
    "img_height = 64\n",
    "img_width = 64\n",
    "batch_size = 64\n",
    "epsilon = 1.0"
   ]
  },
  {
   "cell_type": "code",
   "execution_count": 3,
   "id": "d24c9181",
   "metadata": {},
   "outputs": [],
   "source": [
    "def decode_img(img):\n",
    "    img = tf.io.decode_jpeg(img, channels=3)\n",
    "    return tf.image.resize(img, [img_height, img_width])\n",
    "\n",
    "def process_path(file_path):\n",
    "    img = tf.io.read_file(file_path)\n",
    "    img = decode_img(img)\n",
    "    return img, img"
   ]
  },
  {
   "cell_type": "code",
   "execution_count": 4,
   "id": "e226696d",
   "metadata": {},
   "outputs": [
    {
     "name": "stdout",
     "output_type": "stream",
     "text": [
      "(64, 64, 3)\n"
     ]
    },
    {
     "name": "stderr",
     "output_type": "stream",
     "text": [
      "2023-04-16 12:01:41.711511: I tensorflow/core/platform/cpu_feature_guard.cc:142] This TensorFlow binary is optimized with oneAPI Deep Neural Network Library (oneDNN) to use the following CPU instructions in performance-critical operations:  SSE4.1 SSE4.2 AVX AVX2 FMA\n",
      "To enable them in other operations, rebuild TensorFlow with the appropriate compiler flags.\n",
      "2023-04-16 12:01:42.783617: I tensorflow/core/common_runtime/gpu/gpu_device.cc:1510] Created device /job:localhost/replica:0/task:0/device:GPU:0 with 3450 MB memory:  -> device: 0, name: NVIDIA TITAN Xp, pci bus id: 0000:83:00.0, compute capability: 6.1\n"
     ]
    }
   ],
   "source": [
    "file_dir = '../../Datasets/CelebA/img_align_celeba/000001.jpg'\n",
    "img, label = process_path(file_dir)\n",
    "print(img.shape)"
   ]
  },
  {
   "cell_type": "code",
   "execution_count": 5,
   "id": "d92c522b",
   "metadata": {},
   "outputs": [],
   "source": [
    "import numpy as np\n",
    "\n",
    "def sigmoid(x):\n",
    "    return 1 / (1 + np.exp(-x))\n",
    "\n",
    "\n",
    "def fairRR(arr, eps, num_int, num_bit, mode = 'dp'):\n",
    "    r = arr.shape[1]\n",
    "    num_pt = arr.shape[0]\n",
    "    \n",
    "    def float_to_binary(x, m=num_int, n=num_bit - num_int - 1):\n",
    "        x_abs = np.abs(x)\n",
    "        x_scaled = round(x_abs * 2 ** n)\n",
    "        res = '{:0{}b}'.format(x_scaled, m + n)\n",
    "        if x >= 0:\n",
    "            res = '0' + res\n",
    "        else:\n",
    "            res = '1' + res\n",
    "        return res\n",
    "\n",
    "    # binary to float\n",
    "    def binary_to_float(bstr, m=num_int, n=num_bit - num_int - 1):\n",
    "        sign = bstr[0]\n",
    "        bs = bstr[1:]\n",
    "        res = int(bs, 2) / 2 ** n\n",
    "        if int(sign) == 1:\n",
    "            res = -1 * res\n",
    "        return res\n",
    "\n",
    "    def string_to_int(a):\n",
    "        bit_str = \"\".join(x for x in a)\n",
    "        return np.array(list(bit_str)).astype(int)\n",
    "\n",
    "    def join_string(a, num_bit=num_bit, num_feat=r):\n",
    "        res = np.empty(num_feat, dtype=\"S10\")\n",
    "        # res = []\n",
    "        for i in range(num_feat):\n",
    "            # res.append(\"\".join(str(x) for x in a[i*l:(i+1)*l]))\n",
    "            res[i] = \"\".join(str(x) for x in a[i * num_bit:(i + 1) * num_bit])\n",
    "        return res\n",
    "    \n",
    "    def alpha_tr1(r, eps, l):\n",
    "        return np.exp( ( eps - r*eps*(l-1) ) /(2*r*l) )\n",
    "\n",
    "    def alpha(r, eps, l):\n",
    "        nu = 2*( np.sqrt( 6*np.log(10) /(2*r) ) )\n",
    "        sum_ = 0\n",
    "        for k in range(l):\n",
    "            sum_ += np.exp(2 * eps*k / l)\n",
    "        return np.sqrt(((1-nu)*eps + r*l) / (2*r * sum_))\n",
    "    \n",
    "    max_ = np.max(arr)\n",
    "    min_ = np.min(arr)\n",
    "    arr = (arr-min_)/(max_ - min_)\n",
    "\n",
    "    alpha_ = alpha_tr1(r=r, eps=eps, l=num_bit) if mode == 'dp' else alpha(r=r, eps=eps, l=num_bit)\n",
    "    \n",
    "    float_to_binary_vec = np.vectorize(float_to_binary)\n",
    "    binary_to_float_vec = np.vectorize(binary_to_float)\n",
    "    \n",
    "    feat_tmp = float_to_binary_vec(arr)\n",
    "    feat = np.apply_along_axis(string_to_int, 1, feat_tmp)\n",
    "    print(np.max(arr), np.min(arr), arr.shape, feat.shape)\n",
    "    index_matrix = np.array(range(num_bit))\n",
    "    index_matrix = np.tile(index_matrix, (num_pt, r))\n",
    "    p = 1 / (1 + alpha_ * np.exp(index_matrix * eps / num_bit))\n",
    "    p_temp = np.random.rand(p.shape[0], p.shape[1])\n",
    "    perturb = (p_temp > p).astype(int)\n",
    "    print(feat[0][:10])\n",
    "    print(perturb[0][:10])\n",
    "    perturb_feat = (perturb + feat) % 2\n",
    "    print(perturb_feat[0][:10])\n",
    "    perturb_feat = np.apply_along_axis(join_string, 1, perturb_feat)\n",
    "    perturb_feat = binary_to_float_vec(perturb_feat)\n",
    "    print(arr[0][:2])\n",
    "    print(perturb_feat[0][:2])\n",
    "    perturb_feat = perturb_feat*(max_ - min_) + min_\n",
    "    return perturb_feat"
   ]
  },
  {
   "cell_type": "code",
   "execution_count": 6,
   "id": "41f2f67e",
   "metadata": {},
   "outputs": [
    {
     "name": "stdout",
     "output_type": "stream",
     "text": [
      "Model: \"sequential\"\n",
      "_________________________________________________________________\n",
      "Layer (type)                 Output Shape              Param #   \n",
      "=================================================================\n",
      "block1_conv1 (Conv2D)        (None, 64, 64, 64)        1792      \n",
      "=================================================================\n",
      "Total params: 1,792\n",
      "Trainable params: 1,792\n",
      "Non-trainable params: 0\n",
      "_________________________________________________________________\n"
     ]
    }
   ],
   "source": [
    "encoder = tf.keras.applications.vgg19.VGG19(\n",
    "            input_shape = (64,64,3), \n",
    "            weights = 'imagenet', \n",
    "            include_top = False, \n",
    "            pooling = 'avg'\n",
    "        ).layers[:2]\n",
    "# encoder.summary()\n",
    "# encoder = tf.keras.applications.resnet50.ResNet50(\n",
    "#             input_shape = (img_height,img_width,3), \n",
    "#             weights = 'imagenet', \n",
    "#             include_top = False, \n",
    "#             pooling = 'avg'\n",
    "#         ).layers[:7]\n",
    "\n",
    "encoder = tf.keras.Sequential(encoder)\n",
    "encoder.summary()\n",
    "# encoder.layers[-1].output_shape[1:]"
   ]
  },
  {
   "cell_type": "code",
   "execution_count": 7,
   "id": "33e28262",
   "metadata": {},
   "outputs": [
    {
     "data": {
      "text/plain": [
       "<matplotlib.image.AxesImage at 0x7fd4dc068910>"
      ]
     },
     "execution_count": 7,
     "metadata": {},
     "output_type": "execute_result"
    },
    {
     "data": {
      "image/png": "[encoded data removed]",
      "text/plain": [
       "<Figure size 432x288 with 1 Axes>"
      ]
     },
     "metadata": {
      "needs_background": "light"
     },
     "output_type": "display_data"
    }
   ],
   "source": [
    "plt.imshow(img.numpy().astype(\"uint8\"))"
   ]
  },
  {
   "cell_type": "code",
   "execution_count": 8,
   "id": "863865c7",
   "metadata": {},
   "outputs": [
    {
     "name": "stderr",
     "output_type": "stream",
     "text": [
      "2023-04-16 12:01:44.129734: I tensorflow/stream_executor/cuda/cuda_dnn.cc:369] Loaded cuDNN version 8201\n"
     ]
    },
    {
     "name": "stdout",
     "output_type": "stream",
     "text": [
      "(64, 64, 3) (1, 64, 64, 64) (1, 64, 64, 3)\n"
     ]
    }
   ],
   "source": [
    "true_label = encoder(tf.expand_dims(img, axis=0), training=False)\n",
    "recon_img = tf.Variable(tf.expand_dims(tf.random.normal(img.shape, 0, 1, tf.float32), axis=0), trainable=True)\n",
    "print(img.shape, true_label.shape, recon_img.shape)"
   ]
  },
  {
   "cell_type": "code",
   "execution_count": 9,
   "id": "304c7a17",
   "metadata": {},
   "outputs": [
    {
     "name": "stdout",
     "output_type": "stream",
     "text": [
      "1.0 0.0 (1, 262144) (1, 2621440)\n",
      "[0 0 0 0 0 0 0 0 0 0]\n",
      "[0 0 0 0 0 0 0 1 1 0]\n",
      "[0 0 0 0 0 0 0 1 1 0]\n",
      "[0.         0.09496262]\n",
      "[0.0234375  0.02734375]\n"
     ]
    }
   ],
   "source": [
    "temp_plain = np.reshape(true_label, newshape=(true_label.shape[0], true_label.shape[1]*true_label.shape[2]*true_label.shape[3]))\n",
    "perturb_feat = fairRR(arr=temp_plain, eps=5.0, num_int=1, num_bit=10, mode = 'dp')\n",
    "true_label = tf.convert_to_tensor(np.reshape(perturb_feat, newshape=true_label.shape))"
   ]
  },
  {
   "cell_type": "code",
   "execution_count": 10,
   "id": "46f5274a",
   "metadata": {},
   "outputs": [
    {
     "name": "stdout",
     "output_type": "stream",
     "text": [
      "Loss test: 269975.5\n"
     ]
    }
   ],
   "source": [
    "loss_object = tf.keras.losses.MeanSquaredError()\n",
    "def loss(model, label, img_, training):\n",
    "    y_ = model(img_, training=training)\n",
    "    return loss_object(y_true=label, y_pred=y_) + 0.001*tf.image.total_variation(images=tf.squeeze(img_, axis=0))\n",
    "\n",
    "l = loss(encoder, true_label, img_=recon_img, training=False)\n",
    "print(\"Loss test: {}\".format(l))"
   ]
  },
  {
   "cell_type": "code",
   "execution_count": 11,
   "id": "20484da3",
   "metadata": {},
   "outputs": [],
   "source": [
    "def grad(model, inputs, targets):\n",
    "    with tf.GradientTape() as tape:\n",
    "        loss_value = loss(model, targets, inputs, training=False)\n",
    "    return loss_value, tape.gradient(loss_value, inputs)"
   ]
  },
  {
   "cell_type": "code",
   "execution_count": 12,
   "id": "51833e09",
   "metadata": {},
   "outputs": [],
   "source": [
    "optimizer = tf.keras.optimizers.Adam(learning_rate=5)"
   ]
  },
  {
   "cell_type": "code",
   "execution_count": 13,
   "id": "6b6b41a5",
   "metadata": {},
   "outputs": [
    {
     "name": "stdout",
     "output_type": "stream",
     "text": [
      "Step: 0, Initial Loss: 269975.5\n",
      "Step: 1,         Loss: 267585.1875\n"
     ]
    }
   ],
   "source": [
    "loss_value, grads = grad(encoder, recon_img, true_label)\n",
    "\n",
    "print(\"Step: {}, Initial Loss: {}\".format(optimizer.iterations.numpy(),\n",
    "                                          loss_value.numpy()))\n",
    "\n",
    "optimizer.apply_gradients(zip([grads], [recon_img]))\n",
    "print(\"Step: {},         Loss: {}\".format(optimizer.iterations.numpy(),\n",
    "                                          loss(encoder, true_label, recon_img, training=False).numpy()))"
   ]
  },
  {
   "cell_type": "code",
   "execution_count": 14,
   "id": "fcf3f3fc",
   "metadata": {},
   "outputs": [
    {
     "name": "stdout",
     "output_type": "stream",
     "text": [
      "epoch 0, loss 267585.1875\n",
      "epoch 10, loss 245954.421875\n",
      "epoch 20, loss 231628.90625\n",
      "epoch 30, loss 223310.171875\n",
      "epoch 40, loss 218426.34375\n",
      "epoch 50, loss 215345.015625\n",
      "epoch 60, loss 213291.796875\n",
      "epoch 70, loss 211838.90625\n",
      "epoch 80, loss 210731.8125\n",
      "epoch 90, loss 209825.0\n",
      "epoch 100, loss 209056.375\n",
      "epoch 110, loss 208402.421875\n",
      "epoch 120, loss 207835.484375\n",
      "epoch 130, loss 207313.75\n",
      "epoch 140, loss 206863.703125\n",
      "epoch 150, loss 206473.3125\n",
      "epoch 160, loss 206120.953125\n",
      "epoch 170, loss 205802.46875\n",
      "epoch 180, loss 205517.8125\n",
      "epoch 190, loss 205263.984375\n",
      "epoch 200, loss 205051.09375\n",
      "epoch 210, loss 204871.296875\n",
      "epoch 220, loss 204707.515625\n",
      "epoch 230, loss 204556.65625\n",
      "epoch 240, loss 204415.265625\n",
      "epoch 250, loss 204283.53125\n",
      "epoch 260, loss 204165.40625\n",
      "epoch 270, loss 204056.296875\n",
      "epoch 280, loss 203951.484375\n",
      "epoch 290, loss 203853.3125\n",
      "epoch 300, loss 203766.6875\n",
      "epoch 310, loss 203687.875\n",
      "epoch 320, loss 203610.671875\n",
      "epoch 330, loss 203537.3125\n",
      "epoch 340, loss 203472.9375\n",
      "epoch 350, loss 203408.96875\n",
      "epoch 360, loss 203353.78125\n",
      "epoch 370, loss 203300.359375\n",
      "epoch 380, loss 203252.78125\n",
      "epoch 390, loss 203210.125\n",
      "epoch 400, loss 203169.53125\n",
      "epoch 410, loss 203133.28125\n",
      "epoch 420, loss 203100.34375\n",
      "epoch 430, loss 203072.328125\n",
      "epoch 440, loss 203046.375\n",
      "epoch 450, loss 203020.46875\n",
      "epoch 460, loss 202997.421875\n",
      "epoch 470, loss 202975.921875\n",
      "epoch 480, loss 202957.109375\n",
      "epoch 490, loss 202940.6875\n"
     ]
    }
   ],
   "source": [
    "train_loss_results = []\n",
    "\n",
    "num_epochs = 500\n",
    "\n",
    "for epoch in range(num_epochs):\n",
    "    loss_value, grads = grad(encoder, recon_img, true_label)\n",
    "    optimizer.apply_gradients(zip([grads], [recon_img]))\n",
    "    if epoch % 10 == 0:\n",
    "        print(f'epoch {epoch}, loss {loss_value}')"
   ]
  },
  {
   "cell_type": "code",
   "execution_count": 15,
   "id": "1dabb990",
   "metadata": {},
   "outputs": [
    {
     "data": {
      "text/plain": [
       "<matplotlib.image.AxesImage at 0x7fd61cab5910>"
      ]
     },
     "execution_count": 15,
     "metadata": {},
     "output_type": "execute_result"
    },
    {
     "data": {
      "image/png": "[encoded data removed]",
      "text/plain": [
       "<Figure size 432x288 with 1 Axes>"
      ]
     },
     "metadata": {
      "needs_background": "light"
     },
     "output_type": "display_data"
    }
   ],
   "source": [
    "plt.imshow(np.squeeze(recon_img).astype(\"uint8\"))\n",
    "# plt.savefig('clean.jpg')"
   ]
  },
  {
   "cell_type": "code",
   "execution_count": null,
   "id": "6930e47c",
   "metadata": {},
   "outputs": [],
   "source": []
  }
 ],
 "metadata": {
  "kernelspec": {
   "display_name": "Python 3 (ipykernel)",
   "language": "python",
   "name": "python3"
  },
  "language_info": {
   "codemirror_mode": {
    "name": "ipython",
    "version": 3
   },
   "file_extension": ".py",
   "mimetype": "text/x-python",
   "name": "python",
   "nbconvert_exporter": "python",
   "pygments_lexer": "ipython3",
   "version": "3.7.12"
  }
 },
 "nbformat": 4,
 "nbformat_minor": 5
}
