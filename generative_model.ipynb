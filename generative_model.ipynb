{
 "cells": [
  {
   "cell_type": "code",
   "execution_count": 1,
   "id": "dcbabd0f",
   "metadata": {},
   "outputs": [],
   "source": [
    "import os\n",
    "os.environ[\"CUDA_DEVICE_ORDER\"] = \"PCI_BUS_ID\"\n",
    "os.environ[\"CUDA_VISIBLE_DEVICES\"] = \"4\"\n",
    "import numpy as np\n",
    "import PIL\n",
    "import PIL.Image\n",
    "import tensorflow as tf\n",
    "from tensorflow.keras import layers\n",
    "import matplotlib.pyplot as plt"
   ]
  },
  {
   "cell_type": "code",
   "execution_count": 2,
   "id": "b128decf",
   "metadata": {},
   "outputs": [],
   "source": [
    "img_height = 64\n",
    "img_width = 64\n",
    "batch_size = 64"
   ]
  },
  {
   "cell_type": "code",
   "execution_count": 3,
   "id": "d24c9181",
   "metadata": {},
   "outputs": [],
   "source": [
    "def decode_img(img):\n",
    "    img = tf.io.decode_jpeg(img, channels=3)\n",
    "    return tf.image.resize(img, [img_height, img_width])\n",
    "\n",
    "def process_path(file_path):\n",
    "    img = tf.io.read_file(file_path)\n",
    "    img = decode_img(img)\n",
    "    return img, img"
   ]
  },
  {
   "cell_type": "code",
   "execution_count": 4,
   "id": "e226696d",
   "metadata": {},
   "outputs": [
    {
     "name": "stderr",
     "output_type": "stream",
     "text": [
      "2023-04-15 18:15:47.388378: I tensorflow/core/platform/cpu_feature_guard.cc:142] This TensorFlow binary is optimized with oneAPI Deep Neural Network Library (oneDNN) to use the following CPU instructions in performance-critical operations:  SSE4.1 SSE4.2 AVX AVX2 FMA\n",
      "To enable them in other operations, rebuild TensorFlow with the appropriate compiler flags.\n",
      "2023-04-15 18:15:48.071995: I tensorflow/core/common_runtime/gpu/gpu_device.cc:1510] Created device /job:localhost/replica:0/task:0/device:GPU:0 with 11414 MB memory:  -> device: 0, name: NVIDIA TITAN Xp, pci bus id: 0000:83:00.0, compute capability: 6.1\n"
     ]
    },
    {
     "name": "stdout",
     "output_type": "stream",
     "text": [
      "(64, 64, 3)\n"
     ]
    }
   ],
   "source": [
    "file_dir = '../../Datasets/CelebA/img_align_celeba/000001.jpg'\n",
    "img, label = process_path(file_dir)\n",
    "print(img.shape)"
   ]
  },
  {
   "cell_type": "code",
   "execution_count": 5,
   "id": "41f2f67e",
   "metadata": {},
   "outputs": [
    {
     "name": "stdout",
     "output_type": "stream",
     "text": [
      "Model: \"sequential\"\n",
      "_________________________________________________________________\n",
      "Layer (type)                 Output Shape              Param #   \n",
      "=================================================================\n",
      "conv1_pad (ZeroPadding2D)    (None, 70, 70, 3)         0         \n",
      "_________________________________________________________________\n",
      "conv1_conv (Conv2D)          (None, 32, 32, 64)        9472      \n",
      "_________________________________________________________________\n",
      "conv1_bn (BatchNormalization (None, 32, 32, 64)        256       \n",
      "_________________________________________________________________\n",
      "conv1_relu (Activation)      (None, 32, 32, 64)        0         \n",
      "_________________________________________________________________\n",
      "pool1_pad (ZeroPadding2D)    (None, 34, 34, 64)        0         \n",
      "_________________________________________________________________\n",
      "pool1_pool (MaxPooling2D)    (None, 16, 16, 64)        0         \n",
      "=================================================================\n",
      "Total params: 9,728\n",
      "Trainable params: 9,600\n",
      "Non-trainable params: 128\n",
      "_________________________________________________________________\n"
     ]
    },
    {
     "data": {
      "text/plain": [
       "(16, 16, 64)"
      ]
     },
     "execution_count": 5,
     "metadata": {},
     "output_type": "execute_result"
    }
   ],
   "source": [
    "encoder = tf.keras.applications.resnet50.ResNet50(\n",
    "            input_shape = (224,224,3), \n",
    "            weights = 'imagenet', \n",
    "            include_top = False, \n",
    "            pooling = 'avg'\n",
    "        )\n",
    "\n",
    "encoder = tf.keras.applications.resnet50.ResNet50(\n",
    "            input_shape = (img_height,img_width,3), \n",
    "            weights = 'imagenet', \n",
    "            include_top = False, \n",
    "            pooling = 'avg'\n",
    "        ).layers[:7]\n",
    "\n",
    "encoder = tf.keras.Sequential(encoder)\n",
    "encoder.summary()\n",
    "encoder.layers[-1].output_shape[1:]"
   ]
  },
  {
   "cell_type": "code",
   "execution_count": 6,
   "id": "33e28262",
   "metadata": {},
   "outputs": [
    {
     "data": {
      "text/plain": [
       "<matplotlib.image.AxesImage at 0x7f5b8c265b90>"
      ]
     },
     "execution_count": 6,
     "metadata": {},
     "output_type": "execute_result"
    },
    {
     "data": {
      "image/png": "[encoded data removed]",
      "text/plain": [
       "<Figure size 432x288 with 1 Axes>"
      ]
     },
     "metadata": {
      "needs_background": "light"
     },
     "output_type": "display_data"
    }
   ],
   "source": [
    "plt.imshow(img.numpy().astype(\"uint8\"))"
   ]
  },
  {
   "cell_type": "code",
   "execution_count": 7,
   "id": "863865c7",
   "metadata": {},
   "outputs": [
    {
     "name": "stderr",
     "output_type": "stream",
     "text": [
      "2023-04-15 18:16:34.938357: I tensorflow/stream_executor/cuda/cuda_dnn.cc:369] Loaded cuDNN version 8201\n"
     ]
    },
    {
     "name": "stdout",
     "output_type": "stream",
     "text": [
      "(64, 64, 3) (1, 16, 16, 64) (1, 64, 64, 3)\n"
     ]
    }
   ],
   "source": [
    "true_label = encoder(tf.expand_dims(img, axis=0), training=False)\n",
    "recon_img = tf.Variable(tf.expand_dims(tf.random.normal(img.shape, 0, 1, tf.float32), axis=0), trainable=True)\n",
    "print(img.shape, true_label.shape, recon_img.shape)"
   ]
  },
  {
   "cell_type": "code",
   "execution_count": 8,
   "id": "46f5274a",
   "metadata": {},
   "outputs": [
    {
     "name": "stdout",
     "output_type": "stream",
     "text": [
      "Loss test: 7.907196998596191\n"
     ]
    }
   ],
   "source": [
    "loss_object = tf.keras.losses.MeanSquaredError()\n",
    "def loss(model, label, img_, training):\n",
    "    y_ = model(img_, training=training)\n",
    "    return loss_object(y_true=label, y_pred=y_)\n",
    "\n",
    "l = loss(encoder, true_label, img_=recon_img, training=False)\n",
    "print(\"Loss test: {}\".format(l))"
   ]
  },
  {
   "cell_type": "code",
   "execution_count": 9,
   "id": "20484da3",
   "metadata": {},
   "outputs": [],
   "source": [
    "def grad(model, inputs, targets):\n",
    "    with tf.GradientTape() as tape:\n",
    "        loss_value = loss(model, targets, inputs, training=False)\n",
    "    return loss_value, tape.gradient(loss_value, inputs)"
   ]
  },
  {
   "cell_type": "code",
   "execution_count": 10,
   "id": "51833e09",
   "metadata": {},
   "outputs": [],
   "source": [
    "optimizer = tf.keras.optimizers.Adam(learning_rate=0.01)"
   ]
  },
  {
   "cell_type": "code",
   "execution_count": 11,
   "id": "6b6b41a5",
   "metadata": {},
   "outputs": [
    {
     "name": "stdout",
     "output_type": "stream",
     "text": [
      "Step: 0, Initial Loss: 7.907196998596191\n",
      "Step: 1,         Loss: 7.905546188354492\n"
     ]
    }
   ],
   "source": [
    "loss_value, grads = grad(encoder, recon_img, true_label)\n",
    "\n",
    "print(\"Step: {}, Initial Loss: {}\".format(optimizer.iterations.numpy(),\n",
    "                                          loss_value.numpy()))\n",
    "\n",
    "optimizer.apply_gradients(zip([grads], [recon_img]))\n",
    "print(\"Step: {},         Loss: {}\".format(optimizer.iterations.numpy(),\n",
    "                                          loss(encoder, true_label, recon_img, training=False).numpy()))"
   ]
  },
  {
   "cell_type": "code",
   "execution_count": 17,
   "id": "fcf3f3fc",
   "metadata": {},
   "outputs": [
    {
     "name": "stdout",
     "output_type": "stream",
     "text": [
      "epoch 0, loss 5.677288055419922\n",
      "epoch 100000, loss 0.10981334745883942\n"
     ]
    }
   ],
   "source": [
    "train_loss_results = []\n",
    "\n",
    "num_epochs = 1000000\n",
    "\n",
    "for epoch in range(num_epochs):\n",
    "    loss_value, grads = grad(encoder, recon_img, true_label)\n",
    "    optimizer.apply_gradients(zip([grads], [recon_img]))\n",
    "    if epoch % 100000 == 0:\n",
    "        print(f'epoch {epoch}, loss {loss_value}')"
   ]
  },
  {
   "cell_type": "code",
   "execution_count": 19,
   "id": "1dabb990",
   "metadata": {},
   "outputs": [
    {
     "data": {
      "image/png": "[encoded data removed]",
      "text/plain": [
       "<Figure size 432x288 with 1 Axes>"
      ]
     },
     "metadata": {
      "needs_background": "light"
     },
     "output_type": "display_data"
    }
   ],
   "source": [
    "plt.imshow(np.squeeze(recon_img).astype(\"uint8\"))\n",
    "plt.savefig('clean.jpg')"
   ]
  },
  {
   "cell_type": "code",
   "execution_count": null,
   "id": "768ada98",
   "metadata": {},
   "outputs": [],
   "source": []
  }
 ],
 "metadata": {
  "kernelspec": {
   "display_name": "Python 3 (ipykernel)",
   "language": "python",
   "name": "python3"
  },
  "language_info": {
   "codemirror_mode": {
    "name": "ipython",
    "version": 3
   },
   "file_extension": ".py",
   "mimetype": "text/x-python",
   "name": "python",
   "nbconvert_exporter": "python",
   "pygments_lexer": "ipython3",
   "version": "3.7.12"
  }
 },
 "nbformat": 4,
 "nbformat_minor": 5
}
